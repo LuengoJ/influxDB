{
 "cells": [
  {
   "cell_type": "code",
   "execution_count": 5,
   "metadata": {},
   "outputs": [],
   "source": [
    "import numpy as np\n",
    "import pandas as pd\n",
    "import matplotlib.pyplot as plt\n",
    "from datetime import datetime\n"
   ]
  },
  {
   "attachments": {},
   "cell_type": "markdown",
   "metadata": {},
   "source": [
    "# Conversion a InfluxDB Annotated CSV"
   ]
  },
  {
   "cell_type": "code",
   "execution_count": 6,
   "metadata": {},
   "outputs": [
    {
     "name": "stderr",
     "output_type": "stream",
     "text": [
      "/tmp/ipykernel_24988/1952779246.py:3: DtypeWarning: Columns (2,3,6,7) have mixed types. Specify dtype option on import or set low_memory=False.\n",
      "  dataset = pd.read_csv('../EBW-Sample_data_Zylk_2022-07-01_0h_a_2023-02-09_0h.csv', sep=';', nrows=5000000)\n"
     ]
    },
    {
     "data": {
      "text/plain": [
       "(5000000, 33)"
      ]
     },
     "execution_count": 6,
     "metadata": {},
     "output_type": "execute_result"
    }
   ],
   "source": [
    "# Leer el dataset con limite de filas\n",
    "# ===================================\n",
    "dataset = pd.read_csv('EBW-Sample_data_Zylk_2022-07-01_0h_a_2023-02-09_0h.csv', sep=';', nrows=5000000)\n",
    "dataset.shape"
   ]
  },
  {
   "cell_type": "code",
   "execution_count": 7,
   "metadata": {},
   "outputs": [],
   "source": [
    "# Convertir a formato dateTime:RFC3339 para InfluxDB\n",
    "# ==================================================\n",
    "dataset['_DateTimeLocal'] = pd.to_datetime(dataset['_DateTimeLocal'])\n",
    "dataset['_DateTimeLocal'] = dataset['_DateTimeLocal'].dt.strftime('%Y-%m-%dT%H:%M:%S.%fZ')"
   ]
  },
  {
   "cell_type": "code",
   "execution_count": 8,
   "metadata": {},
   "outputs": [
    {
     "data": {
      "text/html": [
       "<div>\n",
       "<style scoped>\n",
       "    .dataframe tbody tr th:only-of-type {\n",
       "        vertical-align: middle;\n",
       "    }\n",
       "\n",
       "    .dataframe tbody tr th {\n",
       "        vertical-align: top;\n",
       "    }\n",
       "\n",
       "    .dataframe thead th {\n",
       "        text-align: right;\n",
       "    }\n",
       "</style>\n",
       "<table border=\"1\" class=\"dataframe\">\n",
       "  <thead>\n",
       "    <tr style=\"text-align: right;\">\n",
       "      <th></th>\n",
       "      <th>id</th>\n",
       "      <th>_DateTimeLocal</th>\n",
       "      <th>OF</th>\n",
       "      <th>PN</th>\n",
       "      <th>status</th>\n",
       "      <th>PROG</th>\n",
       "      <th>BLOCK</th>\n",
       "      <th>BLOCK_S</th>\n",
       "      <th>AAVACTBX</th>\n",
       "      <th>AAVACTBY</th>\n",
       "      <th>ALIG_X</th>\n",
       "      <th>ALIG_Y</th>\n",
       "      <th>BEAN_CURR_ACT</th>\n",
       "      <th>BEAN_CURR_CMD</th>\n",
       "      <th>BIAS_VOLT_ACT</th>\n",
       "      <th>DEFL_FREC</th>\n",
       "      <th>DEFL_X</th>\n",
       "      <th>DEFL_Y</th>\n",
       "      <th>HIGH_VOLT_ACT</th>\n",
       "      <th>HIGH_VOLT_CMD</th>\n",
       "      <th>LENS_CURR_ACT</th>\n",
       "      <th>LENS_CURR_CMD</th>\n",
       "      <th>STIG_X</th>\n",
       "      <th>STIG_Y</th>\n",
       "      <th>TEMP_AGUA_OK</th>\n",
       "      <th>TEMP_DIF_ACT</th>\n",
       "      <th>TIEMP_PARA_VAC</th>\n",
       "      <th>VAC_CAM_ACT</th>\n",
       "      <th>VAC_CAM_CMD</th>\n",
       "      <th>VAC_CAN_ACT</th>\n",
       "      <th>VAC_CAN_CMD</th>\n",
       "      <th>VAC_CAN_ACT_2</th>\n",
       "      <th>VAC_CAM_ACT_2</th>\n",
       "    </tr>\n",
       "  </thead>\n",
       "  <tbody>\n",
       "    <tr>\n",
       "      <th>0</th>\n",
       "      <td>58474487</td>\n",
       "      <td>2022-07-01T00:00:00.467000Z</td>\n",
       "      <td>222346055-0210-0</td>\n",
       "      <td>12008285.0</td>\n",
       "      <td>404</td>\n",
       "      <td>_N_MPF210_MPF</td>\n",
       "      <td>N0135</td>\n",
       "      <td>M00 ;(INTRODUCE ORDEN DE FABRICACION EN LA G...</td>\n",
       "      <td>0.0</td>\n",
       "      <td>0.0</td>\n",
       "      <td>50037.0</td>\n",
       "      <td>61854.0</td>\n",
       "      <td>5.0</td>\n",
       "      <td>0.0</td>\n",
       "      <td>24575.0</td>\n",
       "      <td>29.0</td>\n",
       "      <td>0.0</td>\n",
       "      <td>0.0</td>\n",
       "      <td>24871.0</td>\n",
       "      <td>27648.0</td>\n",
       "      <td>18120.0</td>\n",
       "      <td>13353.0</td>\n",
       "      <td>65343.0</td>\n",
       "      <td>63656.0</td>\n",
       "      <td>True</td>\n",
       "      <td>2313.0</td>\n",
       "      <td>0.0</td>\n",
       "      <td>23716.0</td>\n",
       "      <td>23716.0</td>\n",
       "      <td>9770.0</td>\n",
       "      <td>9770.0</td>\n",
       "      <td>9969.0</td>\n",
       "      <td>24696.0</td>\n",
       "    </tr>\n",
       "    <tr>\n",
       "      <th>1</th>\n",
       "      <td>58474488</td>\n",
       "      <td>2022-07-01T00:00:00.920000Z</td>\n",
       "      <td>222346055-0210-0</td>\n",
       "      <td>12008285.0</td>\n",
       "      <td>404</td>\n",
       "      <td>_N_MPF210_MPF</td>\n",
       "      <td>N0135</td>\n",
       "      <td>M00 ;(INTRODUCE ORDEN DE FABRICACION EN LA G...</td>\n",
       "      <td>0.0</td>\n",
       "      <td>0.0</td>\n",
       "      <td>50037.0</td>\n",
       "      <td>61854.0</td>\n",
       "      <td>7.0</td>\n",
       "      <td>0.0</td>\n",
       "      <td>24576.0</td>\n",
       "      <td>29.0</td>\n",
       "      <td>0.0</td>\n",
       "      <td>0.0</td>\n",
       "      <td>24872.0</td>\n",
       "      <td>27648.0</td>\n",
       "      <td>18120.0</td>\n",
       "      <td>13353.0</td>\n",
       "      <td>65343.0</td>\n",
       "      <td>63656.0</td>\n",
       "      <td>True</td>\n",
       "      <td>2313.0</td>\n",
       "      <td>0.0</td>\n",
       "      <td>23717.0</td>\n",
       "      <td>23717.0</td>\n",
       "      <td>9779.0</td>\n",
       "      <td>9779.0</td>\n",
       "      <td>9979.0</td>\n",
       "      <td>24696.0</td>\n",
       "    </tr>\n",
       "  </tbody>\n",
       "</table>\n",
       "</div>"
      ],
      "text/plain": [
       "         id               _DateTimeLocal                OF          PN  \\\n",
       "0  58474487  2022-07-01T00:00:00.467000Z  222346055-0210-0  12008285.0   \n",
       "1  58474488  2022-07-01T00:00:00.920000Z  222346055-0210-0  12008285.0   \n",
       "\n",
       "   status           PROG  BLOCK  \\\n",
       "0     404  _N_MPF210_MPF  N0135   \n",
       "1     404  _N_MPF210_MPF  N0135   \n",
       "\n",
       "                                             BLOCK_S  AAVACTBX  AAVACTBY  \\\n",
       "0    M00 ;(INTRODUCE ORDEN DE FABRICACION EN LA G...       0.0       0.0   \n",
       "1    M00 ;(INTRODUCE ORDEN DE FABRICACION EN LA G...       0.0       0.0   \n",
       "\n",
       "    ALIG_X   ALIG_Y  BEAN_CURR_ACT  BEAN_CURR_CMD  BIAS_VOLT_ACT  DEFL_FREC  \\\n",
       "0  50037.0  61854.0            5.0            0.0        24575.0       29.0   \n",
       "1  50037.0  61854.0            7.0            0.0        24576.0       29.0   \n",
       "\n",
       "   DEFL_X  DEFL_Y  HIGH_VOLT_ACT  HIGH_VOLT_CMD  LENS_CURR_ACT  LENS_CURR_CMD  \\\n",
       "0     0.0     0.0        24871.0        27648.0        18120.0        13353.0   \n",
       "1     0.0     0.0        24872.0        27648.0        18120.0        13353.0   \n",
       "\n",
       "    STIG_X   STIG_Y  TEMP_AGUA_OK  TEMP_DIF_ACT  TIEMP_PARA_VAC  VAC_CAM_ACT  \\\n",
       "0  65343.0  63656.0          True        2313.0             0.0      23716.0   \n",
       "1  65343.0  63656.0          True        2313.0             0.0      23717.0   \n",
       "\n",
       "   VAC_CAM_CMD  VAC_CAN_ACT  VAC_CAN_CMD  VAC_CAN_ACT_2  VAC_CAM_ACT_2  \n",
       "0      23716.0       9770.0       9770.0         9969.0        24696.0  \n",
       "1      23717.0       9779.0       9779.0         9979.0        24696.0  "
      ]
     },
     "execution_count": 8,
     "metadata": {},
     "output_type": "execute_result"
    }
   ],
   "source": [
    "pd.set_option('display.max_columns', None)\n",
    "dataset.head(2)"
   ]
  },
  {
   "attachments": {},
   "cell_type": "markdown",
   "metadata": {},
   "source": [
    "# Transformar a Flux Annotated CSV"
   ]
  },
  {
   "cell_type": "code",
   "execution_count": 12,
   "metadata": {},
   "outputs": [],
   "source": [
    "column_numericas= dataset[['AAVACTBX', 'AAVACTBY', 'BEAN_CURR_ACT',\n",
    "       'BEAN_CURR_CMD', 'BIAS_VOLT_ACT', \n",
    "       'HIGH_VOLT_ACT', 'HIGH_VOLT_CMD', 'LENS_CURR_ACT', 'LENS_CURR_CMD',\n",
    "       'TEMP_DIF_ACT', 'TIEMP_PARA_VAC',\n",
    "       'VAC_CAM_ACT', 'VAC_CAM_CMD', 'VAC_CAN_ACT', 'VAC_CAN_CMD',\n",
    "       'VAC_CAN_ACT_2', 'VAC_CAM_ACT_2']]"
   ]
  },
  {
   "cell_type": "code",
   "execution_count": 10,
   "metadata": {},
   "outputs": [
    {
     "data": {
      "text/html": [
       "<div>\n",
       "<style scoped>\n",
       "    .dataframe tbody tr th:only-of-type {\n",
       "        vertical-align: middle;\n",
       "    }\n",
       "\n",
       "    .dataframe tbody tr th {\n",
       "        vertical-align: top;\n",
       "    }\n",
       "\n",
       "    .dataframe thead th {\n",
       "        text-align: right;\n",
       "    }\n",
       "</style>\n",
       "<table border=\"1\" class=\"dataframe\">\n",
       "  <thead>\n",
       "    <tr style=\"text-align: right;\">\n",
       "      <th></th>\n",
       "      <th>#datatype</th>\n",
       "      <th>string</th>\n",
       "      <th>long</th>\n",
       "      <th>dateTime:RFC3339</th>\n",
       "      <th>string.1</th>\n",
       "      <th>double</th>\n",
       "      <th>string.2</th>\n",
       "    </tr>\n",
       "  </thead>\n",
       "  <tbody>\n",
       "    <tr>\n",
       "      <th>0</th>\n",
       "      <td>#group</td>\n",
       "      <td>False</td>\n",
       "      <td>False</td>\n",
       "      <td>False</td>\n",
       "      <td>True</td>\n",
       "      <td>False</td>\n",
       "      <td>True</td>\n",
       "    </tr>\n",
       "    <tr>\n",
       "      <th>1</th>\n",
       "      <td>#default</td>\n",
       "      <td>NaN</td>\n",
       "      <td>NaN</td>\n",
       "      <td>NaN</td>\n",
       "      <td>NaN</td>\n",
       "      <td>NaN</td>\n",
       "      <td>NaN</td>\n",
       "    </tr>\n",
       "  </tbody>\n",
       "</table>\n",
       "</div>"
      ],
      "text/plain": [
       "  #datatype string   long dateTime:RFC3339 string.1 double string.2\n",
       "0    #group  False  False            False     True  False     True\n",
       "1  #default    NaN    NaN              NaN      NaN    NaN      NaN"
      ]
     },
     "execution_count": 10,
     "metadata": {},
     "output_type": "execute_result"
    }
   ],
   "source": [
    "# Cargar CSV con las anotaciones\n",
    "# ==============================\n",
    "\n",
    "annotation = pd.read_csv('CSV_influxdb/influxdb-annotation.csv', sep=',')\n",
    "annotation.head()"
   ]
  },
  {
   "cell_type": "code",
   "execution_count": 13,
   "metadata": {},
   "outputs": [],
   "source": [
    "for column in column_numericas:\n",
    "   \n",
    "    # Seleccionar _DateTimeLocal->_time ; PROG-> _field ; column->_value\n",
    "    # ==================================================================\n",
    "    influxdb = dataset.loc[:, ['_DateTimeLocal','PROG',column]]\n",
    "    \n",
    "    # Añadir columnas que hacen falta para Influx Annotated CSV\n",
    "    # =========================================================\n",
    "    influxdb.insert(0, '', '')\n",
    "    influxdb.insert(1, 'result', '0')\n",
    "    influxdb.insert(2, 'table', '0')\n",
    "    influxdb['_measurement'] = column\n",
    "    \n",
    "    # Cambiar nombres a las columnas\n",
    "    # ==============================\n",
    "    influxdb = influxdb.rename(columns={'_DateTimeLocal': '_time', 'PROG': '_field', column: '_value'})\n",
    "    \n",
    "    influxdb.to_csv(f'CSV_influxdb/{column}.csv', index=False)\n",
    "    \n",
    "    with open('CSV_influxdb/influxdb-annotation.csv', 'r') as archivo1, open(f'CSV_influxdb/{column}.csv', 'r') as archivo2:\n",
    "        contenido1 = archivo1.readlines()\n",
    "        contenido2 = archivo2.readlines()\n",
    "\n",
    "    contenido_completo = contenido1 + contenido2\n",
    "    \n",
    "    with open(f'CSV_influxdb/{column}.csv', 'w') as archivo_resultado:\n",
    "        archivo_resultado.writelines(contenido_completo)\n"
   ]
  }
 ],
 "metadata": {
  "kernelspec": {
   "display_name": "venv-master",
   "language": "python",
   "name": "python3"
  },
  "language_info": {
   "codemirror_mode": {
    "name": "ipython",
    "version": 3
   },
   "file_extension": ".py",
   "mimetype": "text/x-python",
   "name": "python",
   "nbconvert_exporter": "python",
   "pygments_lexer": "ipython3",
   "version": "3.10.6"
  },
  "orig_nbformat": 4,
  "vscode": {
   "interpreter": {
    "hash": "8ee0ed04a885b383aa7dcf645767812c198011592a9914133a34a2e466efd7b0"
   }
  }
 },
 "nbformat": 4,
 "nbformat_minor": 2
}
